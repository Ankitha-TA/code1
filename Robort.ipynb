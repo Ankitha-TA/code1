{
 "cells": [
  {
   "cell_type": "code",
   "execution_count": null,
   "id": "a9ed571a-92a8-41f7-900d-9b5f10da5af9",
   "metadata": {},
   "outputs": [],
   "source": [
    "class Robot:\n",
    "    def __init__(self, grid_rows=4, grid_cols=5):\n",
    "        self.grid_rows, self.grid_cols = grid_rows, grid_cols\n",
    "        self.position = (0, 0)  # Start at top-left corner\n",
    "        self.direction = 'S'    # Start facing South\n",
    "        \n",
    "        self.moves = {\n",
    "            'N': (-1, 0),  \n",
    "            'S': (1, 0),   \n",
    "            'E': (0, 1),   \n",
    "            'W': (0, -1)   \n",
    "        }\n",
    "\n",
    "    def move(self):\n",
    "        d_row, d_col = self.moves[self.direction]\n",
    "        # Calculate the new position\n",
    "        new_row, new_col = self.position[0] + d_row, self.position[1] + d_col\n",
    "        # if the new position is within grid boundaries, update the position\n",
    "        if 0 <= new_row < self.grid_rows and 0 <= new_col < self.grid_cols:\n",
    "            self.position = (new_row, new_col)\n",
    "\n",
    "    def set_direction(self, direction):\n",
    "# Change the robot's direction only if it's different from the current direction\n",
    "       if direction != self.direction:\n",
    "            self.direction = direction\n",
    "\n",
    "    def process_commands(self, commands):\n",
    "        for command in commands:\n",
    "            # If the command is a direction, update the robot's direction\n",
    "            if command in \"NEWS\":\n",
    "                self.set_direction(command)\n",
    "            # If the command is 'M', move the robot in the current direction\n",
    "            elif command == 'M':\n",
    "                self.move()\n",
    "        return self.position, self.direction\n",
    "\n",
    "if __name__ == \"__main__\":\n",
    "    commands = input(\"Enter command sequence for the robot: \")\n",
    "    robot = Robot()  #creating an instance\n",
    "    final_position, final_direction = robot.process_commands(commands)\n",
    "    print(f\"Robot Location: {final_position[0]},{final_position[1]},{final_direction}\")\n",
    "\n",
    "\n",
    "#note:\n",
    "# I referenced examples or explanations online for how to handle certain parts,\n",
    "# I looked up how to check if a position is within the grid boundaries from an online source.\n",
    "# I adapted that approach here to keep the robot within the grid limits.\n"
   ]
  },
  {
   "cell_type": "code",
   "execution_count": null,
   "id": "441a701c-0a8f-4a67-9e34-404824431970",
   "metadata": {},
   "outputs": [],
   "source": []
  }
 ],
 "metadata": {
  "kernelspec": {
   "display_name": "Python 3 (ipykernel)",
   "language": "python",
   "name": "python3"
  },
  "language_info": {
   "codemirror_mode": {
    "name": "ipython",
    "version": 3
   },
   "file_extension": ".py",
   "mimetype": "text/x-python",
   "name": "python",
   "nbconvert_exporter": "python",
   "pygments_lexer": "ipython3",
   "version": "3.12.5"
  }
 },
 "nbformat": 4,
 "nbformat_minor": 5
}
